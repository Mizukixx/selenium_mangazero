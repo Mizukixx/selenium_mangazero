{
 "cells": [
  {
   "cell_type": "code",
   "execution_count": 12,
   "metadata": {},
   "outputs": [],
   "source": [
    "from time import sleep\n",
    "import sys\n",
    "import random\n",
    "import requests\n",
    "from datetime import datetime\n",
    "from selenium import webdriver\n",
    "from selenium.webdriver.chrome.options import Options\n",
    "from selenium.webdriver.common.keys import Keys\n",
    "from selenium.webdriver.common.action_chains import ActionChains\n",
    "\n",
    "TARGET_URL = 'https://manga-zero.com/product/3769'\n",
    "\n",
    "b = webdriver.Chrome('./chromedriver')\n",
    "b.get(TARGET_URL)\n",
    "\n",
    "\n",
    "# ログを残す\n",
    "def log():\n",
    "    logFile = open('log.csv','a')\n",
    "    episodeName = b.find_element_by_class_name('item-episode-title').text.replace('\\n','').replace('無料','')\n",
    "    mangaName   = b.find_elements_by_class_name('product-title')[0].text\n",
    "    log_text    = mangaName+','+episodeName+'\\n'\n",
    "    logFile.write(log_text)\n",
    "    logFile.close()\n",
    "\n",
    "# episodeName = b.find_element_by_class_name('item-episode-title').text.replace('\\n','').replace('無料','')\n",
    "# mangaName   = b.find_element_by_class_name('product-title').text\n",
    "# log_text    = mangaName+','+episodeName\n",
    "# print (mangaName)\n",
    "# print (episodeName)\n",
    "# print (log_text)\n",
    "\n",
    "\n",
    "log()\n",
    "b.close()"
   ]
  },
  {
   "cell_type": "code",
   "execution_count": null,
   "metadata": {},
   "outputs": [],
   "source": []
  },
  {
   "cell_type": "code",
   "execution_count": null,
   "metadata": {},
   "outputs": [],
   "source": []
  },
  {
   "cell_type": "code",
   "execution_count": null,
   "metadata": {},
   "outputs": [],
   "source": []
  },
  {
   "cell_type": "code",
   "execution_count": null,
   "metadata": {},
   "outputs": [],
   "source": []
  }
 ],
 "metadata": {
  "kernelspec": {
   "display_name": "Python 3",
   "language": "python",
   "name": "python3"
  },
  "language_info": {
   "codemirror_mode": {
    "name": "ipython",
    "version": 3
   },
   "file_extension": ".py",
   "mimetype": "text/x-python",
   "name": "python",
   "nbconvert_exporter": "python",
   "pygments_lexer": "ipython3",
   "version": "3.7.3"
  }
 },
 "nbformat": 4,
 "nbformat_minor": 2
}
